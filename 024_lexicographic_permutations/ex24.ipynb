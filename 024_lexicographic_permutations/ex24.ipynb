{
 "cells": [
  {
   "cell_type": "code",
   "execution_count": 73,
   "metadata": {
    "collapsed": true
   },
   "outputs": [],
   "source": [
    "from math import factorial\n",
    "import numpy as np"
   ]
  },
  {
   "cell_type": "markdown",
   "metadata": {},
   "source": [
    "123\n",
    "132\n",
    "213\n",
    "232\n",
    "312\n",
    "321"
   ]
  },
  {
   "cell_type": "code",
   "execution_count": 93,
   "metadata": {
    "collapsed": false
   },
   "outputs": [],
   "source": [
    "# k-ésima permutação\n",
    "k = 1 \n",
    "\n",
    "# número de dígitos\n",
    "n = 3\n",
    "\n",
    "def representation(k, n):\n",
    "    digits = []\n",
    "    for i in range(n, 0, -1):\n",
    "        digits.append(factorial(i - 1))\n",
    "\n",
    "    representation = []\n",
    "    for base in digits:\n",
    "        if k < base:\n",
    "            representation.append(0)\n",
    "        else:\n",
    "            divisor = k / base\n",
    "            k = k - divisor * base\n",
    "            representation.append(divisor)\n",
    "    print representation\n",
    "    print digits\n",
    "    return representation\n"
   ]
  },
  {
   "cell_type": "code",
   "execution_count": 106,
   "metadata": {
    "collapsed": false
   },
   "outputs": [],
   "source": [
    "def solve(k, digits):\n",
    "    r = representation(k, len(digits))\n",
    "    a = set()\n",
    "    for d in digits:\n",
    "        a.add(d)\n",
    "\n",
    "    result = []\n",
    "    for i in r:\n",
    "        c = 0\n",
    "        t = -1\n",
    "        for j in a:\n",
    "            if c == i:                \n",
    "                t = j\n",
    "                result.append(j)\n",
    "                break\n",
    "            c = c + 1\n",
    "        a.remove(t)    \n",
    "        \n",
    "    print result"
   ]
  },
  {
   "cell_type": "code",
   "execution_count": 108,
   "metadata": {
    "collapsed": false
   },
   "outputs": [
    {
     "name": "stdout",
     "output_type": "stream",
     "text": [
      "[2, 6, 6, 2, 5, 1, 2, 1, 1, 0]\n",
      "[362880, 40320, 5040, 720, 120, 24, 6, 2, 1, 1]\n",
      "[2, 7, 8, 3, 9, 1, 5, 4, 6, 0]\n"
     ]
    }
   ],
   "source": [
    "digits = [0, 1, 2, 3, 4, 5, 6, 7, 8, 9]\n",
    "solve(999999, digits)"
   ]
  }
 ],
 "metadata": {
  "kernelspec": {
   "display_name": "Python 2",
   "language": "python",
   "name": "python2"
  },
  "language_info": {
   "codemirror_mode": {
    "name": "ipython",
    "version": 2
   },
   "file_extension": ".py",
   "mimetype": "text/x-python",
   "name": "python",
   "nbconvert_exporter": "python",
   "pygments_lexer": "ipython2",
   "version": "2.7.6"
  }
 },
 "nbformat": 4,
 "nbformat_minor": 0
}
