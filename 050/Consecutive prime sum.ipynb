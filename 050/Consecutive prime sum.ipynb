{
 "cells": [
  {
   "cell_type": "code",
   "execution_count": 1,
   "metadata": {
    "collapsed": false
   },
   "outputs": [],
   "source": [
    "import numpy as np\n",
    "import math\n",
    "from tqdm import tqdm"
   ]
  },
  {
   "cell_type": "code",
   "execution_count": 3,
   "metadata": {
    "collapsed": false
   },
   "outputs": [],
   "source": [
    "n = 1000000\n",
    "x = np.ones(n + 1, dtype=np.bool)\n",
    "\n",
    "for i in range(2, n + 1):\n",
    "    if x[i]:\n",
    "        for j in range(2 * i, n + 1, i):\n",
    "            x[j] = False"
   ]
  },
  {
   "cell_type": "code",
   "execution_count": 4,
   "metadata": {
    "collapsed": false
   },
   "outputs": [
    {
     "data": {
      "text/plain": [
       "78500"
      ]
     },
     "execution_count": 4,
     "metadata": {},
     "output_type": "execute_result"
    }
   ],
   "source": [
    "np.sum(x)"
   ]
  },
  {
   "cell_type": "code",
   "execution_count": 5,
   "metadata": {
    "collapsed": false
   },
   "outputs": [],
   "source": [
    "primes = np.array([k for k in range(2, n) if x[k]])"
   ]
  },
  {
   "cell_type": "code",
   "execution_count": 6,
   "metadata": {
    "collapsed": false
   },
   "outputs": [
    {
     "data": {
      "text/plain": [
       "(78498,)"
      ]
     },
     "execution_count": 6,
     "metadata": {},
     "output_type": "execute_result"
    }
   ],
   "source": [
    "primes.shape"
   ]
  },
  {
   "cell_type": "code",
   "execution_count": 29,
   "metadata": {
    "collapsed": false
   },
   "outputs": [],
   "source": [
    "cumulative = np.zeros(primes.shape[0] + 1, dtype=np.int)\n",
    "c = 0\n",
    "for i in range(0, primes.shape[0]):\n",
    "    c = c + primes[i]\n",
    "    cumulative[i + 1] = c"
   ]
  },
  {
   "cell_type": "code",
   "execution_count": 34,
   "metadata": {
    "collapsed": false
   },
   "outputs": [
    {
     "name": "stdout",
     "output_type": "stream",
     "text": [
      "547\n"
     ]
    }
   ],
   "source": [
    "for i in range(0, primes.shape[0]):\n",
    "    if cumulative[i] > 1000000:\n",
    "        print i\n",
    "        break"
   ]
  },
  {
   "cell_type": "code",
   "execution_count": 35,
   "metadata": {
    "collapsed": false
   },
   "outputs": [
    {
     "name": "stdout",
     "output_type": "stream",
     "text": [
      "997651 543\n"
     ]
    }
   ],
   "source": [
    "limit = primes.shape[0] + 1\n",
    "feasible_max = 547\n",
    "\n",
    "result = 0\n",
    "while feasible_max >= 0 and result == 0:\n",
    "    for i in range(0, limit - feasible_max + 1):\n",
    "        local_sum = cumulative[i + feasible_max] - cumulative[i]\n",
    "        if local_sum > 1000000:\n",
    "            break\n",
    "        if x[local_sum]:\n",
    "            print local_sum, feasible_max\n",
    "            result = local_sum\n",
    "            break\n",
    "    feasible_max = feasible_max - 1\n",
    "        "
   ]
  }
 ],
 "metadata": {
  "kernelspec": {
   "display_name": "Python 2",
   "language": "python",
   "name": "python2"
  },
  "language_info": {
   "codemirror_mode": {
    "name": "ipython",
    "version": 2
   },
   "file_extension": ".py",
   "mimetype": "text/x-python",
   "name": "python",
   "nbconvert_exporter": "python",
   "pygments_lexer": "ipython2",
   "version": "2.7.6"
  }
 },
 "nbformat": 4,
 "nbformat_minor": 0
}
